{
 "cells": [
  {
   "cell_type": "code",
   "execution_count": null,
   "id": "5bbaf840-7900-4ba0-b0d9-632f143c5528",
   "metadata": {},
   "outputs": [],
   "source": [
    "import pandas as pd\n",
    "import geopandas as gpd\n",
    "import gtfs_functions\n",
    "import yaml"
   ]
  },
  {
   "cell_type": "code",
   "execution_count": null,
   "id": "3c1b392f-33cf-4fcc-9857-659ec9e82da2",
   "metadata": {},
   "outputs": [],
   "source": [
    "import matplotlib as mpl\n",
    "mpl.rcParams[\"figure.dpi\"] = 300"
   ]
  },
  {
   "cell_type": "code",
   "execution_count": null,
   "id": "ee1036fa-aace-4259-b2c8-c62427d0cf20",
   "metadata": {},
   "outputs": [],
   "source": [
    "hennepin_df = gpd.read_file(\"hennepin-county-property-map-cleaned.geojson\")"
   ]
  },
  {
   "cell_type": "code",
   "execution_count": null,
   "id": "38a2ca47-8be0-40d8-8619-282dfbfb3bcc",
   "metadata": {},
   "outputs": [],
   "source": [
    "ramsey_df = gpd.read_file(\"ramsey-county-property-map-cleaned.geojson\")"
   ]
  },
  {
   "cell_type": "code",
   "execution_count": null,
   "id": "bcced759-b44a-4857-bdf6-942418ea7ed2",
   "metadata": {},
   "outputs": [],
   "source": [
    "anoka_df = gpd.read_file(\"anoka-county-property-map-cleaned.geojson\")"
   ]
  },
  {
   "cell_type": "code",
   "execution_count": null,
   "id": "a991ca12-a607-44b9-a749-6570d8aefbe8",
   "metadata": {},
   "outputs": [],
   "source": [
    "feed = gtfs_functions.Feed(\"gtfs.zip\")"
   ]
  },
  {
   "cell_type": "code",
   "execution_count": null,
   "id": "22934b51-2614-4720-9dce-ccc9baff974f",
   "metadata": {},
   "outputs": [],
   "source": [
    "lrt_route_numbers = [\"901\", \"902\"]\n",
    "# brt_route_numbers = [\"903\", \"904\", \"921\", \"923\", \"924\"]\n",
    "brt_route_numbers = [\"904\", \"921\", \"923\", \"924\"]\n",
    "# commuter_rail_route_numbers = [\"888\"]\n",
    "bus_routes = [\"21\", \"63\"]\n",
    "route_numbers = lrt_route_numbers + brt_route_numbers + bus_routes"
   ]
  },
  {
   "cell_type": "markdown",
   "id": "3234a07c-e274-4667-b678-b42aa7704d46",
   "metadata": {},
   "source": [
    "Note that the high frequency network is defined as \"Parts of routes 2, 3, 6, 10, 11, 18, 54, 64, and all of routes 21 and 63, the METRO A Line, C Line, D Line, Blue Line, Green Line and Orange Line.\" Descriptively, the network has service at least every 15 minutes on weekdays between 6 AM and 7 PM, and on Saturdays between 9 AM and 6 PM. Thus, we want to find only the stops on these bus routes that are part of the high frequency network, and not all stops on other variants of these routes."
   ]
  },
  {
   "cell_type": "code",
   "execution_count": null,
   "id": "fe49d1ca-7118-46d3-9b0f-bf4d89385aef",
   "metadata": {},
   "outputs": [],
   "source": [
    "stop_codes = set(feed.stop_times[feed.stop_times.route_id.isin(route_numbers)].stop_code.unique())\n",
    "with open(\"high_frequency_stops.yaml\") as f:\n",
    "    stop_codes.update(yaml.safe_load(f))\n",
    "stops = feed.stops[feed.stops.stop_code.isin(stop_codes)]\n",
    "stops.explore()"
   ]
  },
  {
   "cell_type": "code",
   "execution_count": null,
   "id": "246fcce8-27db-4a20-9d50-4be42c568feb",
   "metadata": {},
   "outputs": [],
   "source": [
    "WKT = \"\"\"PROJCS[\"NAD_1983_HARN_Adj_MN_Hennepin_Feet\",\n",
    "    GEOGCS[\"GCS_NAD_1983_HARN_Adj_MN_Hennepin\",\n",
    "        DATUM[\"D_NAD_1983_HARN_Adj_MN_Hennepin\",\n",
    "            SPHEROID[\"S_GRS_1980_Adj_MN_Hennepin\",6378418.941,298.257222100883,\n",
    "                AUTHORITY[\"ESRI\",\"107726\"]],\n",
    "            AUTHORITY[\"ESRI\",\"106726\"]],\n",
    "        PRIMEM[\"Greenwich\",0,\n",
    "            AUTHORITY[\"EPSG\",\"8901\"]],\n",
    "        UNIT[\"degree\",0.0174532925199433,\n",
    "            AUTHORITY[\"EPSG\",\"9122\"]],\n",
    "        AUTHORITY[\"ESRI\",\"104726\"]],\n",
    "    PROJECTION[\"Lambert_Conformal_Conic_2SP\"],\n",
    "    PARAMETER[\"latitude_of_origin\",44.7911111111111],\n",
    "    PARAMETER[\"central_meridian\",-93.3833333333333],\n",
    "    PARAMETER[\"standard_parallel_1\",44.8833333333333],\n",
    "    PARAMETER[\"standard_parallel_2\",45.1333333333333],\n",
    "    PARAMETER[\"false_easting\",500000],\n",
    "    PARAMETER[\"false_northing\",100000],\n",
    "    UNIT[\"US survey foot\",0.304800609601219,\n",
    "        AUTHORITY[\"EPSG\",\"9003\"]],\n",
    "    AXIS[\"Easting\",EAST],\n",
    "    AXIS[\"Northing\",NORTH],\n",
    "    AUTHORITY[\"ESRI\",\"103734\"]]\n",
    "\"\"\""
   ]
  },
  {
   "cell_type": "code",
   "execution_count": null,
   "id": "51b9258c-d994-485f-bebd-9f723a3cdaa4",
   "metadata": {},
   "outputs": [],
   "source": [
    "hennepin_projected = hennepin_df.to_crs(crs=WKT)\n",
    "ramsey_projected = ramsey_df.to_crs(crs=WKT)\n",
    "anoka_projected = anoka_df.to_crs(crs=WKT)\n",
    "property_df = pd.concat([\n",
    "    gpd.GeoDataFrame(geometry=hennepin_projected.geometry),\n",
    "    gpd.GeoDataFrame(geometry=ramsey_projected.geometry),\n",
    "    gpd.GeoDataFrame(geometry=anoka_projected.geometry),\n",
    "])"
   ]
  },
  {
   "cell_type": "code",
   "execution_count": null,
   "id": "03b452ca-cc3d-4e29-98e7-43d11c4e87cd",
   "metadata": {},
   "outputs": [],
   "source": [
    "stops_projected = stops.to_crs(crs=WKT)"
   ]
  },
  {
   "cell_type": "code",
   "execution_count": null,
   "id": "7326c61c-38e8-4520-b9a3-20e7dc1cbb9e",
   "metadata": {},
   "outputs": [],
   "source": [
    "buffered_stops = stops_projected.buffer(5280 / 2).unary_union\n",
    "buffered_stops"
   ]
  },
  {
   "cell_type": "code",
   "execution_count": null,
   "id": "a569c6cc-5d50-4e14-9382-d6538b433c22",
   "metadata": {},
   "outputs": [],
   "source": [
    "property_df[\"near_stop\"] = property_df.geometry.make_valid().intersects(buffered_stops)"
   ]
  },
  {
   "cell_type": "code",
   "execution_count": null,
   "id": "0543bdde-9244-483e-836f-daa91901c76f",
   "metadata": {},
   "outputs": [],
   "source": [
    "property_df.near_stop.count(), property_df.near_stop.sum()"
   ]
  },
  {
   "cell_type": "code",
   "execution_count": null,
   "id": "fe033f6a-a6eb-49bd-8a4b-a8ee43ce4ddd",
   "metadata": {},
   "outputs": [],
   "source": [
    "ax = property_df.plot(\"near_stop\", categorical=True)\n",
    "ax.set_axis_off()"
   ]
  }
 ],
 "metadata": {
  "kernelspec": {
   "display_name": "Python 3 (ipykernel)",
   "language": "python",
   "name": "python3"
  },
  "language_info": {
   "codemirror_mode": {
    "name": "ipython",
    "version": 3
   },
   "file_extension": ".py",
   "mimetype": "text/x-python",
   "name": "python",
   "nbconvert_exporter": "python",
   "pygments_lexer": "ipython3",
   "version": "3.9.2"
  }
 },
 "nbformat": 4,
 "nbformat_minor": 5
}
