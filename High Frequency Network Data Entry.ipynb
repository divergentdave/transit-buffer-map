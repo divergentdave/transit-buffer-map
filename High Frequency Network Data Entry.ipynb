{
 "cells": [
  {
   "cell_type": "code",
   "execution_count": null,
   "id": "9156d3c4-c6b4-4681-95ca-35c85009c51b",
   "metadata": {},
   "outputs": [],
   "source": [
    "import numpy as np\n",
    "import pandas as pd\n",
    "import gtfs_functions\n",
    "import yaml\n",
    "from adjustText import adjust_text\n",
    "import matplotlib as mpl\n",
    "import contextily as cx\n",
    "import folium"
   ]
  },
  {
   "cell_type": "code",
   "execution_count": null,
   "id": "4aee1d1a-3313-4346-9d14-27b381137a79",
   "metadata": {},
   "outputs": [],
   "source": [
    "mpl.rcParams[\"figure.figsize\"] = [19.2, 14.4] # default [6.4, 4.8]"
   ]
  },
  {
   "cell_type": "code",
   "execution_count": null,
   "id": "a1a949df-0cd1-48e4-9f68-667dfa103713",
   "metadata": {},
   "outputs": [],
   "source": [
    "feed = gtfs_functions.Feed(\"gtfs.zip\")"
   ]
  },
  {
   "cell_type": "code",
   "execution_count": null,
   "id": "9eeabfba-e15e-4cff-aa02-9cd8e3906604",
   "metadata": {},
   "outputs": [],
   "source": [
    "# One of \"2\", \"3\", \"6\", \"10\", \"11\", \"18\", \"54\", \"64\", \"21\", \"63\"\n",
    "# Note that 21 and 63 are entirely high frequency\n",
    "# Source: https://www.metrotransit.org/high-frequency-network\n",
    "# Map: \n",
    "route_id = \"64\"\n",
    "stop_ids = feed.stop_times[feed.stop_times.route_id == route_id].stop_id.unique()"
   ]
  },
  {
   "cell_type": "code",
   "execution_count": null,
   "id": "7a0b0e99-bcd6-4c9d-b2f5-79c895d0fa39",
   "metadata": {},
   "outputs": [],
   "source": [
    "df = feed.stops[feed.stops.stop_id.isin(stop_ids)]\n",
    "high_frequency_stop_codes = yaml.safe_load(open(\"high_frequency_stops.yaml\"))\n",
    "df[\"is_high_frequency\"] = df.stop_code.isin(high_frequency_stop_codes)\n",
    "\n",
    "df_wm = df.to_crs(epsg=3857)\n",
    "ax = df_wm.plot(column=\"is_high_frequency\", markersize=15)\n",
    "texts = df_wm.apply(lambda row: ax.annotate(text=row.stop_code, xy=row.geometry.centroid.coords[0], ha=\"center\", fontsize=\"medium\"), axis=1)\n",
    "adjust_text(list(texts), arrowprops=dict(arrowstyle=\"->\", color=\"black\"))\n",
    "cx.add_basemap(ax, reset_extent=False)\n",
    "ax.set_axis_off()"
   ]
  },
  {
   "cell_type": "code",
   "execution_count": null,
   "id": "2909041e-89eb-4d98-a651-fe7c7d4889e4",
   "metadata": {},
   "outputs": [],
   "source": [
    "df = feed.stops[feed.stops.stop_id.isin(stop_ids)]\n",
    "high_frequency_stop_codes = yaml.safe_load(open(\"high_frequency_stops.yaml\"))\n",
    "df[\"is_high_frequency\"] = df.stop_code.isin(high_frequency_stop_codes)\n",
    "df.explore(\"is_high_frequency\", tooltip=[\"stop_code\", \"stop_name\"])"
   ]
  },
  {
   "cell_type": "code",
   "execution_count": null,
   "id": "9b34a573-7b5f-4e8e-a552-424db350e796",
   "metadata": {},
   "outputs": [],
   "source": [
    "np.diff(np.sort(feed.stop_times[(feed.stop_times.route_id == route_id) & (feed.stop_times.stop_id == \"\")].arrival_time.unique() / 60))"
   ]
  },
  {
   "cell_type": "code",
   "execution_count": null,
   "id": "5241fe67-2492-4a1e-9b5b-9e1c925d1b23",
   "metadata": {},
   "outputs": [],
   "source": [
    "feed.stops[feed.stops.stop_code.isin(high_frequency_stop_codes)].explore()"
   ]
  }
 ],
 "metadata": {
  "kernelspec": {
   "display_name": "Python 3 (ipykernel)",
   "language": "python",
   "name": "python3"
  },
  "language_info": {
   "codemirror_mode": {
    "name": "ipython",
    "version": 3
   },
   "file_extension": ".py",
   "mimetype": "text/x-python",
   "name": "python",
   "nbconvert_exporter": "python",
   "pygments_lexer": "ipython3",
   "version": "3.9.2"
  }
 },
 "nbformat": 4,
 "nbformat_minor": 5
}
