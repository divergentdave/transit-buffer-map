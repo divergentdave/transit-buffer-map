{
 "cells": [
  {
   "cell_type": "code",
   "execution_count": null,
   "id": "1e3ff193-d8e5-4bce-bba2-33f2216b3505",
   "metadata": {},
   "outputs": [],
   "source": [
    "import pandas as pd\n",
    "import geopandas as gpd\n",
    "import gtfs_functions"
   ]
  },
  {
   "cell_type": "code",
   "execution_count": null,
   "id": "2ff69790-6297-48d9-a0f5-d17547acade9",
   "metadata": {},
   "outputs": [],
   "source": [
    "import matplotlib as mpl\n",
    "mpl.rcParams[\"figure.dpi\"] = 300"
   ]
  },
  {
   "cell_type": "code",
   "execution_count": null,
   "id": "4151d8b1-47ea-458c-b9ed-64a848ed259f",
   "metadata": {},
   "outputs": [],
   "source": [
    "hennepin_df = gpd.read_file(\"hennepin-county-property-map-cleaned.geojson\")"
   ]
  },
  {
   "cell_type": "code",
   "execution_count": null,
   "id": "e8959d35-b1f0-465b-8b6c-8270ada13865",
   "metadata": {},
   "outputs": [],
   "source": [
    "ramsey_df = gpd.read_file(\"ramsey-county-property-map-cleaned.geojson\")"
   ]
  },
  {
   "cell_type": "code",
   "execution_count": null,
   "id": "ea0ab885-3105-46db-b861-b9013e8f750d",
   "metadata": {},
   "outputs": [],
   "source": [
    "anoka_df = gpd.read_file(\"anoka-county-property-map-cleaned.geojson\")"
   ]
  },
  {
   "cell_type": "code",
   "execution_count": null,
   "id": "d29e3839-710d-4b3e-beb3-d5bb6ed81e15",
   "metadata": {},
   "outputs": [],
   "source": [
    "feed = gtfs_functions.Feed(\"gtfs.zip\")"
   ]
  },
  {
   "cell_type": "code",
   "execution_count": null,
   "id": "77b75b90-5c92-46ee-ad81-ce216863b7b1",
   "metadata": {},
   "outputs": [],
   "source": [
    "routes = feed.routes[feed.routes.route_id.isin([\"901\", \"902\", \"903\", \"904\", \"921\", \"923\", \"924\", \"888\"])]\n",
    "routes"
   ]
  },
  {
   "cell_type": "code",
   "execution_count": null,
   "id": "d084f980-6e0b-4d34-bcf0-7900f301992b",
   "metadata": {},
   "outputs": [],
   "source": [
    "stop_ids = feed.stop_times[feed.stop_times.route_id.isin(routes.route_id)].stop_id.unique()"
   ]
  },
  {
   "cell_type": "code",
   "execution_count": null,
   "id": "a4e7b27d-796a-4232-a9be-a6f6b307681a",
   "metadata": {},
   "outputs": [],
   "source": [
    "stops = feed.stops[feed.stops.stop_id.isin(stop_ids)]\n",
    "stops"
   ]
  },
  {
   "cell_type": "code",
   "execution_count": null,
   "id": "2c53f155-db8f-4317-a6c1-b4eb7816604f",
   "metadata": {},
   "outputs": [],
   "source": [
    "WKT = \"\"\"PROJCS[\"NAD_1983_HARN_Adj_MN_Hennepin_Feet\",\n",
    "    GEOGCS[\"GCS_NAD_1983_HARN_Adj_MN_Hennepin\",\n",
    "        DATUM[\"D_NAD_1983_HARN_Adj_MN_Hennepin\",\n",
    "            SPHEROID[\"S_GRS_1980_Adj_MN_Hennepin\",6378418.941,298.257222100883,\n",
    "                AUTHORITY[\"ESRI\",\"107726\"]],\n",
    "            AUTHORITY[\"ESRI\",\"106726\"]],\n",
    "        PRIMEM[\"Greenwich\",0,\n",
    "            AUTHORITY[\"EPSG\",\"8901\"]],\n",
    "        UNIT[\"degree\",0.0174532925199433,\n",
    "            AUTHORITY[\"EPSG\",\"9122\"]],\n",
    "        AUTHORITY[\"ESRI\",\"104726\"]],\n",
    "    PROJECTION[\"Lambert_Conformal_Conic_2SP\"],\n",
    "    PARAMETER[\"latitude_of_origin\",44.7911111111111],\n",
    "    PARAMETER[\"central_meridian\",-93.3833333333333],\n",
    "    PARAMETER[\"standard_parallel_1\",44.8833333333333],\n",
    "    PARAMETER[\"standard_parallel_2\",45.1333333333333],\n",
    "    PARAMETER[\"false_easting\",500000],\n",
    "    PARAMETER[\"false_northing\",100000],\n",
    "    UNIT[\"US survey foot\",0.304800609601219,\n",
    "        AUTHORITY[\"EPSG\",\"9003\"]],\n",
    "    AXIS[\"Easting\",EAST],\n",
    "    AXIS[\"Northing\",NORTH],\n",
    "    AUTHORITY[\"ESRI\",\"103734\"]]\n",
    "\"\"\""
   ]
  },
  {
   "cell_type": "code",
   "execution_count": null,
   "id": "54fa2acf-d4c9-462c-9030-d66c83305eae",
   "metadata": {},
   "outputs": [],
   "source": [
    "hennepin_projected = hennepin_df.to_crs(crs=WKT)\n",
    "ramsey_projected = ramsey_df.to_crs(crs=WKT)\n",
    "anoka_projected = anoka_df.to_crs(crs=WKT)\n",
    "property_df = pd.concat([\n",
    "    gpd.GeoDataFrame(geometry=hennepin_projected.geometry),\n",
    "    gpd.GeoDataFrame(geometry=ramsey_projected.geometry),\n",
    "    gpd.GeoDataFrame(geometry=anoka_projected.geometry),\n",
    "])"
   ]
  },
  {
   "cell_type": "code",
   "execution_count": null,
   "id": "a742263c-e374-4220-bba3-e96c51a6fd9f",
   "metadata": {},
   "outputs": [],
   "source": [
    "stops_projected = stops.to_crs(crs=WKT)"
   ]
  },
  {
   "cell_type": "code",
   "execution_count": null,
   "id": "533692fb-98e5-40fa-baa9-40eb80fab626",
   "metadata": {},
   "outputs": [],
   "source": [
    "buffered_stops = stops_projected.buffer(5280 / 2).unary_union\n",
    "buffered_stops"
   ]
  },
  {
   "cell_type": "code",
   "execution_count": null,
   "id": "25bdce81-c1a2-4d93-8d08-60d50037b4a7",
   "metadata": {},
   "outputs": [],
   "source": [
    "property_df[\"near_stop\"] = property_df.geometry.make_valid().intersects(buffered_stops)"
   ]
  },
  {
   "cell_type": "code",
   "execution_count": null,
   "id": "bb6113d9-43a6-44db-a3c7-05277962bb26",
   "metadata": {},
   "outputs": [],
   "source": [
    "property_df.near_stop.count(), property_df.near_stop.sum()"
   ]
  },
  {
   "cell_type": "code",
   "execution_count": null,
   "id": "57437ad2-57cd-4511-ae3c-90001f607ed3",
   "metadata": {},
   "outputs": [],
   "source": [
    "property_df.plot(\"near_stop\", categorical=True)"
   ]
  }
 ],
 "metadata": {
  "kernelspec": {
   "display_name": "Python 3 (ipykernel)",
   "language": "python",
   "name": "python3"
  },
  "language_info": {
   "codemirror_mode": {
    "name": "ipython",
    "version": 3
   },
   "file_extension": ".py",
   "mimetype": "text/x-python",
   "name": "python",
   "nbconvert_exporter": "python",
   "pygments_lexer": "ipython3",
   "version": "3.9.2"
  }
 },
 "nbformat": 4,
 "nbformat_minor": 5
}
